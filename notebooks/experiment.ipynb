{
 "cells": [
  {
   "cell_type": "code",
   "execution_count": 1,
   "id": "10b5d97b",
   "metadata": {},
   "outputs": [],
   "source": [
    "# Run setup_imports to enable importing from src/\n",
    "%run ../src/setup_imports.py"
   ]
  },
  {
   "cell_type": "code",
   "execution_count": 2,
   "id": "2ab2cc03",
   "metadata": {},
   "outputs": [
    {
     "name": "stderr",
     "output_type": "stream",
     "text": [
      "/Volumes/X-Wing/casco/Development/introspect-execute-time-drift-experiment/.venv/lib/python3.9/site-packages/urllib3/__init__.py:35: NotOpenSSLWarning: urllib3 v2 only supports OpenSSL 1.1.1+, currently the 'ssl' module is compiled with 'LibreSSL 2.8.3'. See: https://github.com/urllib3/urllib3/issues/3020\n",
      "  warnings.warn(\n"
     ]
    }
   ],
   "source": [
    "from src.utils.ibm import get_backend, get_backend_snapshot, run_and_wrap\n",
    "from src.utils.python_utils import clean_datetimes\n",
    "from src.utils.circuits import packed_chsh_circuit, phi_plus_meassured, compute_parallel_CHSH_scores\n",
    "from qiskit_ibm_runtime import SamplerV2 as Sampler\n",
    "from datetime import datetime\n",
    "import json\n",
    "import time\n",
    "import pandas as pd"
   ]
  },
  {
   "cell_type": "code",
   "execution_count": 3,
   "id": "cf19cbe2",
   "metadata": {},
   "outputs": [],
   "source": [
    "# Parametrize experiment\n",
    "reps = 32\n",
    "delay_between_reps = 60 * 15 # 15 minutes\n",
    "introspection_shots = 1024\n",
    "main_circuit_shots = 1024\n",
    "entanglement_threshold = 1.9"
   ]
  },
  {
   "cell_type": "code",
   "execution_count": 4,
   "id": "48c5ff36",
   "metadata": {},
   "outputs": [],
   "source": [
    "backend = get_backend()"
   ]
  },
  {
   "cell_type": "code",
   "execution_count": null,
   "id": "9b2ae2e3",
   "metadata": {},
   "outputs": [
    {
     "name": "stdout",
     "output_type": "stream",
     "text": [
      "1. Running introspection circuit\n"
     ]
    },
    {
     "name": "stderr",
     "output_type": "stream",
     "text": [
      "/Volumes/X-Wing/casco/Development/introspect-execute-time-drift-experiment/.venv/lib/python3.9/site-packages/qiskit_ibm_runtime/qiskit_runtime_service.py:1111: UserWarning: IBM Quantum Platform is moving, and this version will be sunset on July 1. To get started on the new platform, read the migration guide at https://docs.quantum.ibm.com/migration-guides/classic-iqp-to-cloud-iqp\n",
      "  warnings.warn(warning_message)\n"
     ]
    },
    {
     "name": "stdout",
     "output_type": "stream",
     "text": [
      "1. Running main circuit - entanglement score was 2.587890625\n",
      "2. Running introspection circuit\n",
      "2. Running main circuit - entanglement score was 2.56640625\n",
      "3. Running introspection circuit\n",
      "3. Running main circuit - entanglement score was 2.5859375\n",
      "4. Running introspection circuit\n",
      "4. Running main circuit - entanglement score was 2.5390625\n",
      "5. Running introspection circuit\n",
      "5. Running main circuit - entanglement score was 2.5625\n",
      "6. Running introspection circuit\n",
      "6. Running main circuit - entanglement score was 2.548828125\n",
      "7. Running introspection circuit\n",
      "7. Running main circuit - entanglement score was 2.560546875\n",
      "8. Running introspection circuit\n",
      "8. Running main circuit - entanglement score was 2.515625\n",
      "9. Running introspection circuit\n",
      "9. Running main circuit - entanglement score was 2.439453125\n",
      "10. Running introspection circuit\n",
      "10. Running main circuit - entanglement score was 2.509765625\n",
      "11. Running introspection circuit\n",
      "11. Running main circuit - entanglement score was 2.466796875\n",
      "12. Running introspection circuit\n",
      "12. Running main circuit - entanglement score was 2.603515625\n",
      "13. Running introspection circuit\n",
      "13. Running main circuit - entanglement score was 2.5234375\n",
      "14. Running introspection circuit\n",
      "14. Running main circuit - entanglement score was 2.42578125\n",
      "15. Running introspection circuit\n",
      "15. Running main circuit - entanglement score was 2.626953125\n",
      "16. Running introspection circuit\n",
      "16. Running main circuit - entanglement score was 2.54296875\n",
      "17. Running introspection circuit\n",
      "17. Running main circuit - entanglement score was 2.603515625\n",
      "18. Running introspection circuit\n",
      "18. Running main circuit - entanglement score was 2.5234375\n",
      "19. Running introspection circuit\n",
      "19. Running main circuit - entanglement score was 2.564453125\n",
      "20. Running introspection circuit\n",
      "20. Running main circuit - entanglement score was 2.591796875\n",
      "21. Running introspection circuit\n",
      "21. Running main circuit - entanglement score was 2.484375\n",
      "22. Running introspection circuit\n",
      "22. Running main circuit - entanglement score was 2.51171875\n",
      "23. Running introspection circuit\n",
      "23. Running main circuit - entanglement score was 2.451171875\n",
      "24. Running introspection circuit\n",
      "24. Running main circuit - entanglement score was 2.580078125\n",
      "25. Running introspection circuit\n",
      "25. Running main circuit - entanglement score was 2.60546875\n",
      "26. Running introspection circuit\n",
      "26. Running main circuit - entanglement score was 2.634765625\n",
      "27. Running introspection circuit\n",
      "27. Running main circuit - entanglement score was 2.4296875\n",
      "28. Running introspection circuit\n",
      "28. Running main circuit - entanglement score was 2.37890625\n",
      "29. Running introspection circuit\n",
      "29. Running main circuit - entanglement score was 2.63671875\n",
      "30. Running introspection circuit\n",
      "30. Running main circuit - entanglement score was 2.55078125\n",
      "31. Running introspection circuit\n",
      "31. Running main circuit - entanglement score was 2.625\n",
      "32. Running introspection circuit\n",
      "32. Running main circuit - entanglement score was 2.427734375\n"
     ]
    }
   ],
   "source": [
    "# Main experiment loop\n",
    "\n",
    "results = []\n",
    "\n",
    "i = 0\n",
    "while i < reps:\n",
    "    i+=1\n",
    "    entry = {}\n",
    "    \n",
    "    # --- Backend snapshot; need we do this more than once?---\n",
    "    entry['backend_snapshot'] = get_backend_snapshot(backend)\n",
    "\n",
    "    # --- Introspection phase ---\n",
    "    print(f\"{i}. Running introspection circuit\")\n",
    "    entry['introspection'] = run_and_wrap(packed_chsh_circuit(), backend, introspection_shots)\n",
    "    entry['entanglement_score'] = compute_parallel_CHSH_scores(entry['introspection'][\"counts\"])['CHSH_score']\n",
    "\n",
    "    # --- Decision phase ---\n",
    "    if entry['entanglement_score'] > entanglement_threshold:  \n",
    "        print(f\"{i}. Running main circuit - entanglement score was {entry['entanglement_score']}\")\n",
    "        entry['execution'] = run_and_wrap(phi_plus_meassured(), backend, main_circuit_shots)\n",
    "    else:\n",
    "        print(f\"{i}. Skipping main circuit - entanglement score was {entry['entanglement_score']}\")\n",
    "    \n",
    "    results.append(clean_datetimes(entry))\n",
    "\n",
    "    if i < reps:\n",
    "        time.sleep(delay_between_reps) # wait before next repetition \n"
   ]
  },
  {
   "cell_type": "code",
   "execution_count": null,
   "id": "7c31b04f",
   "metadata": {},
   "outputs": [],
   "source": [
    "import os\n",
    "# Ensure the results directory exists\n",
    "os.makedirs(\"results\", exist_ok=True)\n",
    "\n",
    "# Generate a timestamped filename\n",
    "timestamp = datetime.now().strftime(\"%Y-%m-%d_%H-%M-%S\")\n",
    "json_filename = f\"results/experiment_results_{timestamp}.json\"\n",
    "\n",
    "with open(json_filename, \"w\") as f:\n",
    "    json.dump(results, f, indent=2)\n",
    "\n",
    "# Tabular summary\n",
    "\n",
    "csv_filename = f\"results/experiment_summary_{timestamp}.csv\"\n",
    "\n",
    "df = pd.DataFrame([{\n",
    "    'introspection_created': r.get('introspection', {}).get('timestamps', {}).get('created'),\n",
    "    'introspection_running': r.get('introspection', {}).get('timestamps', {}).get('running'),\n",
    "    'introspection_finished': r.get('introspection', {}).get('timestamps', {}).get('finished'),\n",
    "    'execution_created': r.get('execution', {}).get('timestamps', {}).get('created'),\n",
    "    'execution_running': r.get('execution', {}).get('timestamps', {}).get('running'),\n",
    "    'execution_finished': r.get('execution', {}).get('timestamps', {}).get('finished'),    \n",
    "    'entanglement_score': r.get('entanglement_score'),\n",
    "    'execution_counts': json.dumps(r.get('execution', {}).get('counts')) if r.get('execution') else None\n",
    "} for r in results])\n",
    "df.to_csv(csv_filename, index=False)"
   ]
  },
  {
   "cell_type": "code",
   "execution_count": null,
   "id": "e635172b",
   "metadata": {},
   "outputs": [],
   "source": []
  }
 ],
 "metadata": {
  "kernelspec": {
   "display_name": ".venv",
   "language": "python",
   "name": "python3"
  },
  "language_info": {
   "codemirror_mode": {
    "name": "ipython",
    "version": 3
   },
   "file_extension": ".py",
   "mimetype": "text/x-python",
   "name": "python",
   "nbconvert_exporter": "python",
   "pygments_lexer": "ipython3",
   "version": "3.9.6"
  }
 },
 "nbformat": 4,
 "nbformat_minor": 5
}
