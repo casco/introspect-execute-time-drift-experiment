{
 "cells": [
  {
   "cell_type": "code",
   "execution_count": 1,
   "id": "10b5d97b",
   "metadata": {},
   "outputs": [],
   "source": [
    "# Run setup_imports to enable importing from src/\n",
    "%run ../src/setup_imports.py"
   ]
  },
  {
   "cell_type": "code",
   "execution_count": 2,
   "id": "2ab2cc03",
   "metadata": {},
   "outputs": [
    {
     "name": "stderr",
     "output_type": "stream",
     "text": [
      "/Volumes/X-Wing/casco/Development/introspect-execute-time-drift-experiment/.venv/lib/python3.9/site-packages/urllib3/__init__.py:35: NotOpenSSLWarning: urllib3 v2 only supports OpenSSL 1.1.1+, currently the 'ssl' module is compiled with 'LibreSSL 2.8.3'. See: https://github.com/urllib3/urllib3/issues/3020\n",
      "  warnings.warn(\n"
     ]
    }
   ],
   "source": [
    "from src.utils.ibm import get_backend, get_backend_snapshot, run_and_wrap\n",
    "from src.utils.python_utils import clean_datetimes\n",
    "from src.utils.circuits import chsh_circuit, phi_plus_meassured, compute_entanglement_correlation\n",
    "from qiskit_ibm_runtime import SamplerV2 as Sampler\n",
    "from datetime import datetime\n",
    "import json\n",
    "import time\n",
    "import pandas as pd"
   ]
  },
  {
   "cell_type": "code",
   "execution_count": 3,
   "id": "cf19cbe2",
   "metadata": {},
   "outputs": [],
   "source": [
    "# Parametrize experiment\n",
    "reps = 1\n",
    "delay_between_reps = 60 # seconds\n",
    "max_duration = 10 * 60 * 60  # 10 hours in seconds\n",
    "introspection_shots = 1024\n",
    "main_circuit_shots = 1024\n",
    "entanglement_threshold = 0.4"
   ]
  },
  {
   "cell_type": "code",
   "execution_count": 4,
   "id": "48c5ff36",
   "metadata": {},
   "outputs": [],
   "source": [
    "backend = get_backend()"
   ]
  },
  {
   "cell_type": "code",
   "execution_count": null,
   "id": "9b2ae2e3",
   "metadata": {},
   "outputs": [
    {
     "name": "stdout",
     "output_type": "stream",
     "text": [
      "0. Running introspection circuit\n"
     ]
    },
    {
     "name": "stderr",
     "output_type": "stream",
     "text": [
      "/Volumes/X-Wing/casco/Development/introspect-execute-time-drift-experiment/.venv/lib/python3.9/site-packages/qiskit_ibm_runtime/qiskit_runtime_service.py:1111: UserWarning: IBM Quantum Platform is moving, and this version will be sunset on July 1. To get started on the new platform, read the migration guide at https://docs.quantum.ibm.com/migration-guides/classic-iqp-to-cloud-iqp\n",
      "  warnings.warn(warning_message)\n"
     ]
    },
    {
     "name": "stdout",
     "output_type": "stream",
     "text": [
      "0. Running main circuit - entanglement score was 0.505859375\n"
     ]
    }
   ],
   "source": [
    "# Main experiment loop\n",
    "\n",
    "results = []\n",
    "start_time = time.time()\n",
    "\n",
    "i = 0\n",
    "while i < reps:\n",
    "    entry = {}\n",
    "    \n",
    "    # --- Backend snapshot; need we do this more than once?---\n",
    "    entry['backend_snapshot'] = get_backend_snapshot(backend)\n",
    "\n",
    "    # --- Introspection phase ---\n",
    "    print(f\"{i}. Running introspection circuit\")\n",
    "    entry['introspection'] = run_and_wrap(chsh_circuit(), backend, introspection_shots)\n",
    "    entry['entanglement_score'] = compute_entanglement_correlation(entry['introspection'][\"counts\"])\n",
    "\n",
    "    # --- Decision phase ---\n",
    "    if entry['entanglement_score'] > entanglement_threshold:  \n",
    "        print(f\"{i}. Running main circuit - entanglement score was {entry['entanglement_score']}\")\n",
    "        entry['execution'] = run_and_wrap(phi_plus_meassured(), backend, main_circuit_shots)\n",
    "    else:\n",
    "        print(f\"{i}. Skipping main circuit - entanglement score was {entry['entanglement_score']}\")\n",
    "    \n",
    "    results.append(clean_datetimes(entry))\n",
    "    \n",
    "    if i < reps:\n",
    "        time.sleep(delay_between_reps) # wait before next repetition \n",
    "\n",
    "# Save results\n",
    "with open(\"experiment_results.json\", \"w\") as f:\n",
    "    json.dump(results, f, indent=2)\n",
    "\n",
    "# Tabular summary\n",
    "df = pd.DataFrame([{\n",
    "    'introspection_created': r.get('introspection', {}).get('timestamps', {}).get('created'),\n",
    "    'introspection_running': r.get('introspection', {}).get('timestamps', {}).get('running'),\n",
    "    'introspection_finished': r.get('introspection', {}).get('timestamps', {}).get('finished'),\n",
    "    'execution_created': r.get('execution', {}).get('timestamps', {}).get('created'),\n",
    "    'execution_running': r.get('execution', {}).get('timestamps', {}).get('running'),\n",
    "    'execution_finished': r.get('execution', {}).get('timestamps', {}).get('finished'),    \n",
    "    'entanglement_score': r.get('entanglement_score'),\n",
    "} for r in results])\n",
    "df.to_csv(\"experiment_summary.csv\", index=False)"
   ]
  }
 ],
 "metadata": {
  "kernelspec": {
   "display_name": ".venv",
   "language": "python",
   "name": "python3"
  },
  "language_info": {
   "codemirror_mode": {
    "name": "ipython",
    "version": 3
   },
   "file_extension": ".py",
   "mimetype": "text/x-python",
   "name": "python",
   "nbconvert_exporter": "python",
   "pygments_lexer": "ipython3",
   "version": "3.9.6"
  }
 },
 "nbformat": 4,
 "nbformat_minor": 5
}
