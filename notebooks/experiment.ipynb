{
 "cells": [
  {
   "cell_type": "code",
   "execution_count": null,
   "id": "10b5d97b",
   "metadata": {},
   "outputs": [],
   "source": [
    "# Run setup_imports to enable importing from src/\n",
    "%run ../src/setup_imports.py"
   ]
  },
  {
   "cell_type": "code",
   "execution_count": null,
   "id": "2ab2cc03",
   "metadata": {},
   "outputs": [],
   "source": [
    "from src.utils.ibm import get_backend, get_backend_snapshot, run_and_wrap\n",
    "from src.utils.python_utils import clean_datetimes\n",
    "from src.utils.circuits import packed_chsh_circuit, phi_plus_meassured, compute_parallel_CHSH_scores\n",
    "from qiskit_ibm_runtime import SamplerV2 as Sampler\n",
    "from datetime import datetime\n",
    "import json\n",
    "import time\n",
    "import pandas as pd"
   ]
  },
  {
   "cell_type": "code",
   "execution_count": null,
   "id": "cf19cbe2",
   "metadata": {},
   "outputs": [],
   "source": [
    "# Parametrize experiment\n",
    "reps = 1\n",
    "delay_between_reps = 60 # seconds\n",
    "max_duration = 10 * 60 * 60  # 10 hours in seconds\n",
    "introspection_shots = 1024\n",
    "main_circuit_shots = 1024\n",
    "entanglement_threshold = 1.9"
   ]
  },
  {
   "cell_type": "code",
   "execution_count": null,
   "id": "48c5ff36",
   "metadata": {},
   "outputs": [],
   "source": [
    "backend = get_backend()"
   ]
  },
  {
   "cell_type": "code",
   "execution_count": null,
   "id": "9b2ae2e3",
   "metadata": {},
   "outputs": [],
   "source": [
    "# Main experiment loop\n",
    "\n",
    "results = []\n",
    "\n",
    "i = 0\n",
    "while i < reps:\n",
    "    i+=1\n",
    "    entry = {}\n",
    "    \n",
    "    # --- Backend snapshot; need we do this more than once?---\n",
    "    entry['backend_snapshot'] = get_backend_snapshot(backend)\n",
    "\n",
    "    # --- Introspection phase ---\n",
    "    print(f\"{i}. Running introspection circuit\")\n",
    "    entry['introspection'] = run_and_wrap(packed_chsh_circuit(), backend, introspection_shots)\n",
    "    entry['entanglement_score'] = compute_parallel_CHSH_scores(entry['introspection'][\"counts\"])['CHSH_score']\n",
    "\n",
    "    # --- Decision phase ---\n",
    "    if entry['entanglement_score'] > entanglement_threshold:  \n",
    "        print(f\"{i}. Running main circuit - entanglement score was {entry['entanglement_score']}\")\n",
    "        entry['execution'] = run_and_wrap(phi_plus_meassured(), backend, main_circuit_shots)\n",
    "    else:\n",
    "        print(f\"{i}. Skipping main circuit - entanglement score was {entry['entanglement_score']}\")\n",
    "    \n",
    "    results.append(clean_datetimes(entry))\n",
    "\n",
    "    if i < reps:\n",
    "        time.sleep(delay_between_reps) # wait before next repetition \n",
    "\n",
    "# Save results\n",
    "with open(\"experiment_results.json\", \"w\") as f:\n",
    "    json.dump(results, f, indent=2)\n",
    "\n",
    "# Tabular summary\n",
    "df = pd.DataFrame([{\n",
    "    'introspection_created': r.get('introspection', {}).get('timestamps', {}).get('created'),\n",
    "    'introspection_running': r.get('introspection', {}).get('timestamps', {}).get('running'),\n",
    "    'introspection_finished': r.get('introspection', {}).get('timestamps', {}).get('finished'),\n",
    "    'execution_created': r.get('execution', {}).get('timestamps', {}).get('created'),\n",
    "    'execution_running': r.get('execution', {}).get('timestamps', {}).get('running'),\n",
    "    'execution_finished': r.get('execution', {}).get('timestamps', {}).get('finished'),    \n",
    "    'entanglement_score': r.get('entanglement_score'),\n",
    "    'execution_counts': json.dumps(r.get('execution', {}).get('counts')) if r.get('execution') else None\n",
    "} for r in results])\n",
    "df.to_csv(\"experiment_summary.csv\", index=False)"
   ]
  },
  {
   "cell_type": "code",
   "execution_count": null,
   "id": "bda0debe",
   "metadata": {},
   "outputs": [],
   "source": [
    "entry"
   ]
  },
  {
   "cell_type": "code",
   "execution_count": null,
   "id": "8f8be716",
   "metadata": {},
   "outputs": [],
   "source": [
    "entry['execution']['counts']"
   ]
  },
  {
   "cell_type": "code",
   "execution_count": null,
   "id": "018202ca",
   "metadata": {},
   "outputs": [],
   "source": []
  }
 ],
 "metadata": {
  "kernelspec": {
   "display_name": ".venv",
   "language": "python",
   "name": "python3"
  },
  "language_info": {
   "codemirror_mode": {
    "name": "ipython",
    "version": 3
   },
   "file_extension": ".py",
   "mimetype": "text/x-python",
   "name": "python",
   "nbconvert_exporter": "python",
   "pygments_lexer": "ipython3",
   "version": "3.9.6"
  }
 },
 "nbformat": 4,
 "nbformat_minor": 5
}
