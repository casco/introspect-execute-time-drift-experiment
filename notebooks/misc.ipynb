{
 "cells": [
  {
   "cell_type": "code",
   "execution_count": null,
   "id": "6162fb46",
   "metadata": {},
   "outputs": [],
   "source": [
    "# Run setup_imports to enable importing from src/\n",
    "%run ../src/setup_imports.py"
   ]
  },
  {
   "cell_type": "code",
   "execution_count": null,
   "id": "9a324977",
   "metadata": {},
   "outputs": [],
   "source": [
    "from qiskit import transpile\n",
    "from qiskit_aer.primitives import Sampler as AerSampler\n",
    "from src.utils.circuits import packed_chsh_circuit, compute_parallel_CHSH_scores\n",
    "\n",
    "# Create your packed CHSH circuit\n",
    "qc = packed_chsh_circuit()\n",
    "\n",
    "# Transpile (optional in this context)\n",
    "qc = transpile(qc)\n",
    "\n",
    "# Initialize Aer Sampler\n",
    "sampler = AerSampler()\n",
    "\n",
    "# Run the job\n",
    "job = sampler.run([qc], shots=1024)\n",
    "\n",
    "# Wait and retrieve result\n",
    "result = job.result()\n",
    "\n",
    "# Use binary_probabilities() to approximate counts\n",
    "probabilities = result.quasi_dists[0].binary_probabilities()\n",
    "\n",
    "# Convert quasi-probabilities to pseudo-counts\n",
    "total_shots = 1024\n",
    "counts = {k: int(round(v * total_shots)) for k, v in probabilities.items()}\n",
    "\n",
    "# Now compute CHSH score\n",
    "scores = compute_parallel_CHSH_scores(counts)\n",
    "print(scores)\n"
   ]
  },
  {
   "cell_type": "code",
   "execution_count": null,
   "id": "e3f2889f",
   "metadata": {},
   "outputs": [],
   "source": [
    "from src.utils.ibm import get_backend, run_and_wrap\n",
    "from src.utils.circuits import packed_chsh_circuit, compute_parallel_CHSH_scores\n",
    "\n",
    "backend = get_backend()\n",
    "result = run_and_wrap(packed_chsh_circuit(), backend, shots=1024)\n",
    "scores = compute_parallel_CHSH_scores(result[\"counts\"])\n",
    "print(scores)"
   ]
  },
  {
   "cell_type": "code",
   "execution_count": null,
   "id": "467e7d90",
   "metadata": {},
   "outputs": [],
   "source": []
  }
 ],
 "metadata": {
  "kernelspec": {
   "display_name": ".venv",
   "language": "python",
   "name": "python3"
  },
  "language_info": {
   "codemirror_mode": {
    "name": "ipython",
    "version": 3
   },
   "file_extension": ".py",
   "mimetype": "text/x-python",
   "name": "python",
   "nbconvert_exporter": "python",
   "pygments_lexer": "ipython3",
   "version": "3.9.6"
  }
 },
 "nbformat": 4,
 "nbformat_minor": 5
}
