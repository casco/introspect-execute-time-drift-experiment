{
 "cells": [
  {
   "cell_type": "code",
   "execution_count": 6,
   "id": "9831c1a1",
   "metadata": {},
   "outputs": [
    {
     "name": "stderr",
     "output_type": "stream",
     "text": [
      "/var/folders/jm/g1b9sjb97797vbll5bqqm67w0000gn/T/ipykernel_27298/1163090124.py:6: DeprecationWarning: The \"ibm_quantum\" channel option is deprecated and will be sunset on 1 July. After this date, \"ibm_cloud\", \"ibm_quantum_platform\", and \"local\" will be the only valid channels. For information on migrating to the new IBM Quantum Platform, review the migration guide https://quantum.cloud.ibm.com/docs/migration-guides/classic-iqp-to-cloud-iqp .\n",
      "  service = QiskitRuntimeService(channel=\"ibm_quantum\", token=ibm_token)\n"
     ]
    }
   ],
   "source": [
    "import os\n",
    "from qiskit_ibm_runtime import QiskitRuntimeService\n",
    "from dotenv import load_dotenv\n",
    "\n",
    "ibm_token = os.getenv(\"IBM_QUANTUM_TOKEN\")\n",
    "service = QiskitRuntimeService(channel=\"ibm_quantum\", token=ibm_token)\n"
   ]
  },
  {
   "cell_type": "code",
   "execution_count": 7,
   "id": "ff81ac34",
   "metadata": {},
   "outputs": [],
   "source": [
    "job = service.job('d11e4p2v3z500082dc30')\n",
    "job_result = job.result()"
   ]
  },
  {
   "cell_type": "code",
   "execution_count": 10,
   "id": "402dfafb",
   "metadata": {},
   "outputs": [
    {
     "name": "stdout",
     "output_type": "stream",
     "text": [
      "['ERROR', 'JOB_FINAL_STATES', '__abstractmethods__', '__annotations__', '__class__', '__class_getitem__', '__delattr__', '__dict__', '__dir__', '__doc__', '__eq__', '__format__', '__ge__', '__getattribute__', '__gt__', '__hash__', '__init__', '__init_subclass__', '__le__', '__lt__', '__module__', '__ne__', '__new__', '__orig_bases__', '__parameters__', '__reduce__', '__reduce_ex__', '__repr__', '__setattr__', '__sizeof__', '__slots__', '__str__', '__subclasshook__', '__weakref__', '_abc_impl', '_api_client', '_backend', '_creation_date', '_empty_result_queue', '_error_message', '_error_msg_from_job_response', '_executor', '_final_result_decoder', '_image', '_is_protocol', '_job_id', '_private', '_program_id', '_queue_info', '_reason', '_reason_code', '_service', '_session_id', '_set_error_message', '_set_status', '_set_status_and_error_message', '_status', '_status_from_job_response', '_tags', '_usage_estimation', '_version', 'backend', 'cancel', 'cancelled', 'creation_date', 'done', 'error_message', 'errored', 'image', 'in_final_state', 'inputs', 'instance', 'job_id', 'logs', 'metadata', 'metrics', 'primitive_id', 'private', 'properties', 'result', 'running', 'session_id', 'status', 'tags', 'update_tags', 'usage', 'usage_estimation', 'wait_for_final_state']\n"
     ]
    }
   ],
   "source": [
    "print(dir(job))"
   ]
  },
  {
   "cell_type": "code",
   "execution_count": null,
   "id": "7c736e3d",
   "metadata": {},
   "outputs": [],
   "source": [
    "import pprint\n",
    "pprint.pprint(dir(job))"
   ]
  },
  {
   "cell_type": "code",
   "execution_count": 12,
   "id": "123cd4e0",
   "metadata": {},
   "outputs": [
    {
     "ename": "AttributeError",
     "evalue": "'RuntimeJobV2' object has no attribute 'to_dict'",
     "output_type": "error",
     "traceback": [
      "\u001b[0;31m---------------------------------------------------------------------------\u001b[0m",
      "\u001b[0;31mAttributeError\u001b[0m                            Traceback (most recent call last)",
      "Cell \u001b[0;32mIn[12], line 1\u001b[0m\n\u001b[0;32m----> 1\u001b[0m \u001b[43mjob\u001b[49m\u001b[38;5;241;43m.\u001b[39;49m\u001b[43mto_dict\u001b[49m()  \u001b[38;5;66;03m# Convert job to dictionary\u001b[39;00m\n",
      "\u001b[0;31mAttributeError\u001b[0m: 'RuntimeJobV2' object has no attribute 'to_dict'"
     ]
    }
   ],
   "source": [
    "job.to_dict()  # Convert job to dictionary"
   ]
  },
  {
   "cell_type": "code",
   "execution_count": 13,
   "id": "698c9add",
   "metadata": {},
   "outputs": [
    {
     "data": {
      "text/plain": [
       "qiskit_ibm_runtime.runtime_job_v2.RuntimeJobV2"
      ]
     },
     "execution_count": 13,
     "metadata": {},
     "output_type": "execute_result"
    }
   ],
   "source": [
    "type(job)  # Check the type of job"
   ]
  },
  {
   "cell_type": "code",
   "execution_count": 15,
   "id": "84148868",
   "metadata": {},
   "outputs": [
    {
     "name": "stdout",
     "output_type": "stream",
     "text": [
      "['__call__',\n",
      " '__class__',\n",
      " '__delattr__',\n",
      " '__dir__',\n",
      " '__doc__',\n",
      " '__eq__',\n",
      " '__format__',\n",
      " '__func__',\n",
      " '__ge__',\n",
      " '__get__',\n",
      " '__getattribute__',\n",
      " '__gt__',\n",
      " '__hash__',\n",
      " '__init__',\n",
      " '__init_subclass__',\n",
      " '__le__',\n",
      " '__lt__',\n",
      " '__ne__',\n",
      " '__new__',\n",
      " '__reduce__',\n",
      " '__reduce_ex__',\n",
      " '__repr__',\n",
      " '__self__',\n",
      " '__setattr__',\n",
      " '__sizeof__',\n",
      " '__str__',\n",
      " '__subclasshook__']\n"
     ]
    }
   ],
   "source": [
    "import pprint\n",
    "pprint.pprint(dir(job.metrics))"
   ]
  },
  {
   "cell_type": "code",
   "execution_count": 16,
   "id": "84ce6952",
   "metadata": {},
   "outputs": [
    {
     "data": {
      "text/plain": [
       "method"
      ]
     },
     "execution_count": 16,
     "metadata": {},
     "output_type": "execute_result"
    }
   ],
   "source": [
    "type(job.metrics)  # Check the type of job"
   ]
  },
  {
   "cell_type": "code",
   "execution_count": 17,
   "id": "5b3f29e3",
   "metadata": {},
   "outputs": [
    {
     "data": {
      "text/plain": [
       "{'bss': {'seconds': 2},\n",
       " 'usage': {'quantum_seconds': 2, 'seconds': 2},\n",
       " 'timestamps': {'created': '2025-06-06T12:43:04.733Z',\n",
       "  'finished': '2025-06-06T12:43:10.143Z',\n",
       "  'running': '2025-06-06T12:43:07.416Z'},\n",
       " 'executions': 0,\n",
       " 'num_circuits': 0,\n",
       " 'num_qubits': None,\n",
       " 'circuit_depths': None,\n",
       " 'qiskit_version': 'qiskit_ibm_runtime-0.40.0,qiskit-2.0.2*',\n",
       " 'estimated_start_time': '2025-06-06T12:43:05.944Z',\n",
       " 'estimated_completion_time': '2025-06-06T12:43:07.944Z',\n",
       " 'position_in_queue': None,\n",
       " 'position_in_provider': None}"
      ]
     },
     "execution_count": 17,
     "metadata": {},
     "output_type": "execute_result"
    }
   ],
   "source": [
    "job.metrics()"
   ]
  },
  {
   "cell_type": "code",
   "execution_count": null,
   "id": "08c71bfa",
   "metadata": {},
   "outputs": [],
   "source": []
  }
 ],
 "metadata": {
  "kernelspec": {
   "display_name": ".venv",
   "language": "python",
   "name": "python3"
  },
  "language_info": {
   "codemirror_mode": {
    "name": "ipython",
    "version": 3
   },
   "file_extension": ".py",
   "mimetype": "text/x-python",
   "name": "python",
   "nbconvert_exporter": "python",
   "pygments_lexer": "ipython3",
   "version": "3.9.6"
  }
 },
 "nbformat": 4,
 "nbformat_minor": 5
}
