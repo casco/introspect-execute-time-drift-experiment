{
 "cells": [
  {
   "cell_type": "code",
   "execution_count": 2,
   "id": "9831c1a1",
   "metadata": {},
   "outputs": [
    {
     "name": "stderr",
     "output_type": "stream",
     "text": [
      "/Volumes/X-Wing/casco/Development/introspect-execute-time-drift-experiment/.venv/lib/python3.9/site-packages/urllib3/__init__.py:35: NotOpenSSLWarning: urllib3 v2 only supports OpenSSL 1.1.1+, currently the 'ssl' module is compiled with 'LibreSSL 2.8.3'. See: https://github.com/urllib3/urllib3/issues/3020\n",
      "  warnings.warn(\n",
      "/var/folders/sy/b2bz14411yv4n78xk1t7k31r0000gn/T/ipykernel_15547/1163090124.py:6: DeprecationWarning: The \"ibm_quantum\" channel option is deprecated and will be sunset on 1 July. After this date, \"ibm_cloud\", \"ibm_quantum_platform\", and \"local\" will be the only valid channels. For information on migrating to the new IBM Quantum Platform, review the migration guide https://quantum.cloud.ibm.com/docs/migration-guides/classic-iqp-to-cloud-iqp .\n",
      "  service = QiskitRuntimeService(channel=\"ibm_quantum\", token=ibm_token)\n"
     ]
    }
   ],
   "source": [
    "import os\n",
    "from qiskit_ibm_runtime import QiskitRuntimeService\n",
    "from dotenv import load_dotenv\n",
    "\n",
    "ibm_token = os.getenv(\"IBM_QUANTUM_TOKEN\")\n",
    "service = QiskitRuntimeService(channel=\"ibm_quantum\", token=ibm_token)\n"
   ]
  },
  {
   "cell_type": "code",
   "execution_count": 3,
   "id": "ff81ac34",
   "metadata": {},
   "outputs": [],
   "source": [
    "job = service.job('d11e4p2v3z500082dc30')"
   ]
  },
  {
   "cell_type": "code",
   "execution_count": 8,
   "id": "00079c94",
   "metadata": {},
   "outputs": [],
   "source": [
    "job_result = job.result()"
   ]
  },
  {
   "cell_type": "code",
   "execution_count": 22,
   "id": "402dfafb",
   "metadata": {},
   "outputs": [
    {
     "name": "stdout",
     "output_type": "stream",
     "text": [
      "{'execution': {'execution_spans': ExecutionSpans([DoubleSliceSpan(<start='2025-06-06 12:43:08', stop='2025-06-06 12:43:09', size=1024>)])},\n",
      " 'version': 2}\n"
     ]
    }
   ],
   "source": [
    "import pprint\n",
    "pprint.pprint(job_result.metadata)"
   ]
  },
  {
   "cell_type": "code",
   "execution_count": 23,
   "id": "f05ce7f4",
   "metadata": {},
   "outputs": [
    {
     "data": {
      "text/plain": [
       "<class 'qiskit.primitives.containers.primitive_result.PrimitiveResult'>"
      ]
     },
     "execution_count": 23,
     "metadata": {},
     "output_type": "execute_result"
    }
   ],
   "source": [
    "type(job_result)"
   ]
  },
  {
   "cell_type": "code",
   "execution_count": 17,
   "id": "7c736e3d",
   "metadata": {},
   "outputs": [
    {
     "ename": "TypeError",
     "evalue": "list indices must be integers or slices, not str",
     "output_type": "error",
     "traceback": [
      "\u001b[0;31m---------------------------------------------------------------------------\u001b[0m",
      "\u001b[0;31mTypeError\u001b[0m                                 Traceback (most recent call last)",
      "Cell \u001b[0;32mIn[17], line 2\u001b[0m\n\u001b[1;32m      1\u001b[0m \u001b[38;5;28;01mimport\u001b[39;00m\u001b[38;5;250m \u001b[39m\u001b[38;5;21;01mpprint\u001b[39;00m\n\u001b[0;32m----> 2\u001b[0m pprint\u001b[38;5;241m.\u001b[39mpprint(\u001b[43mjob_result\u001b[49m\u001b[43m[\u001b[49m\u001b[38;5;124;43m'\u001b[39;49m\u001b[38;5;124;43mmetadata\u001b[39;49m\u001b[38;5;124;43m'\u001b[39;49m\u001b[43m]\u001b[49m)\n",
      "File \u001b[0;32m/Volumes/X-Wing/casco/Development/introspect-execute-time-drift-experiment/.venv/lib/python3.9/site-packages/qiskit/primitives/containers/primitive_result.py:44\u001b[0m, in \u001b[0;36mPrimitiveResult.__getitem__\u001b[0;34m(self, index)\u001b[0m\n\u001b[1;32m     43\u001b[0m \u001b[38;5;28;01mdef\u001b[39;00m\u001b[38;5;250m \u001b[39m\u001b[38;5;21m__getitem__\u001b[39m(\u001b[38;5;28mself\u001b[39m, index) \u001b[38;5;241m-\u001b[39m\u001b[38;5;241m>\u001b[39m T:\n\u001b[0;32m---> 44\u001b[0m     \u001b[38;5;28;01mreturn\u001b[39;00m \u001b[38;5;28;43mself\u001b[39;49m\u001b[38;5;241;43m.\u001b[39;49m\u001b[43m_pub_results\u001b[49m\u001b[43m[\u001b[49m\u001b[43mindex\u001b[49m\u001b[43m]\u001b[49m\n",
      "\u001b[0;31mTypeError\u001b[0m: list indices must be integers or slices, not str"
     ]
    }
   ],
   "source": [
    "import pprint\n",
    "pprint.pprint(job_result['metadata'])"
   ]
  },
  {
   "cell_type": "code",
   "execution_count": 7,
   "id": "123cd4e0",
   "metadata": {},
   "outputs": [
    {
     "ename": "AttributeError",
     "evalue": "'RuntimeJobV2' object has no attribute 'to_dict'",
     "output_type": "error",
     "traceback": [
      "\u001b[0;31m---------------------------------------------------------------------------\u001b[0m",
      "\u001b[0;31mAttributeError\u001b[0m                            Traceback (most recent call last)",
      "Cell \u001b[0;32mIn[7], line 1\u001b[0m\n\u001b[0;32m----> 1\u001b[0m \u001b[43mjob\u001b[49m\u001b[38;5;241;43m.\u001b[39;49m\u001b[43mto_dict\u001b[49m()  \u001b[38;5;66;03m# Convert job to dictionary\u001b[39;00m\n",
      "\u001b[0;31mAttributeError\u001b[0m: 'RuntimeJobV2' object has no attribute 'to_dict'"
     ]
    }
   ],
   "source": [
    "job.to_dict()  # Convert job to dictionary"
   ]
  },
  {
   "cell_type": "code",
   "execution_count": 13,
   "id": "698c9add",
   "metadata": {},
   "outputs": [
    {
     "data": {
      "text/plain": [
       "qiskit_ibm_runtime.runtime_job_v2.RuntimeJobV2"
      ]
     },
     "execution_count": 13,
     "metadata": {},
     "output_type": "execute_result"
    }
   ],
   "source": [
    "type(job)  # Check the type of job"
   ]
  },
  {
   "cell_type": "code",
   "execution_count": 15,
   "id": "84148868",
   "metadata": {},
   "outputs": [
    {
     "name": "stdout",
     "output_type": "stream",
     "text": [
      "['__call__',\n",
      " '__class__',\n",
      " '__delattr__',\n",
      " '__dir__',\n",
      " '__doc__',\n",
      " '__eq__',\n",
      " '__format__',\n",
      " '__func__',\n",
      " '__ge__',\n",
      " '__get__',\n",
      " '__getattribute__',\n",
      " '__gt__',\n",
      " '__hash__',\n",
      " '__init__',\n",
      " '__init_subclass__',\n",
      " '__le__',\n",
      " '__lt__',\n",
      " '__ne__',\n",
      " '__new__',\n",
      " '__reduce__',\n",
      " '__reduce_ex__',\n",
      " '__repr__',\n",
      " '__self__',\n",
      " '__setattr__',\n",
      " '__sizeof__',\n",
      " '__str__',\n",
      " '__subclasshook__']\n"
     ]
    }
   ],
   "source": [
    "import pprint\n",
    "pprint.pprint(dir(job.metrics))"
   ]
  },
  {
   "cell_type": "code",
   "execution_count": 16,
   "id": "84ce6952",
   "metadata": {},
   "outputs": [
    {
     "data": {
      "text/plain": [
       "method"
      ]
     },
     "execution_count": 16,
     "metadata": {},
     "output_type": "execute_result"
    }
   ],
   "source": [
    "type(job.metrics)  # Check the type of job"
   ]
  },
  {
   "cell_type": "code",
   "execution_count": 4,
   "id": "5b3f29e3",
   "metadata": {},
   "outputs": [
    {
     "data": {
      "text/plain": [
       "{'bss': {'seconds': 2},\n",
       " 'usage': {'quantum_seconds': 2, 'seconds': 2},\n",
       " 'timestamps': {'created': '2025-06-06T12:43:04.733Z',\n",
       "  'finished': '2025-06-06T12:43:10.143Z',\n",
       "  'running': '2025-06-06T12:43:07.416Z'},\n",
       " 'executions': 0,\n",
       " 'num_circuits': 0,\n",
       " 'num_qubits': None,\n",
       " 'circuit_depths': None,\n",
       " 'qiskit_version': 'qiskit_ibm_runtime-0.40.0,qiskit-2.0.2*',\n",
       " 'estimated_start_time': '2025-06-06T12:43:05.944Z',\n",
       " 'estimated_completion_time': '2025-06-06T12:43:07.944Z',\n",
       " 'position_in_queue': None,\n",
       " 'position_in_provider': None}"
      ]
     },
     "execution_count": 4,
     "metadata": {},
     "output_type": "execute_result"
    }
   ],
   "source": [
    "job.metrics()"
   ]
  },
  {
   "cell_type": "code",
   "execution_count": 6,
   "id": "08c71bfa",
   "metadata": {},
   "outputs": [
    {
     "data": {
      "text/plain": [
       "{'created': '2025-06-06T12:43:04.733Z',\n",
       " 'finished': '2025-06-06T12:43:10.143Z',\n",
       " 'running': '2025-06-06T12:43:07.416Z'}"
      ]
     },
     "execution_count": 6,
     "metadata": {},
     "output_type": "execute_result"
    }
   ],
   "source": [
    "job.metrics().get('timestamps',{})"
   ]
  },
  {
   "cell_type": "code",
   "execution_count": null,
   "id": "47f7f685",
   "metadata": {},
   "outputs": [],
   "source": []
  }
 ],
 "metadata": {
  "kernelspec": {
   "display_name": ".venv",
   "language": "python",
   "name": "python3"
  },
  "language_info": {
   "codemirror_mode": {
    "name": "ipython",
    "version": 3
   },
   "file_extension": ".py",
   "mimetype": "text/x-python",
   "name": "python",
   "nbconvert_exporter": "python",
   "pygments_lexer": "ipython3",
   "version": "3.9.6"
  }
 },
 "nbformat": 4,
 "nbformat_minor": 5
}
