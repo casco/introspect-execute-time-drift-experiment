{
 "cells": [
  {
   "cell_type": "code",
   "execution_count": 1,
   "id": "6162fb46",
   "metadata": {},
   "outputs": [],
   "source": [
    "# Run setup_imports to enable importing from src/\n",
    "%run ../src/setup_imports.py"
   ]
  },
  {
   "cell_type": "code",
   "execution_count": 2,
   "id": "9a324977",
   "metadata": {},
   "outputs": [
    {
     "name": "stderr",
     "output_type": "stream",
     "text": [
      "/Volumes/X-Wing/casco/Development/introspect-execute-time-drift-experiment/.venv/lib/python3.9/site-packages/urllib3/__init__.py:35: NotOpenSSLWarning: urllib3 v2 only supports OpenSSL 1.1.1+, currently the 'ssl' module is compiled with 'LibreSSL 2.8.3'. See: https://github.com/urllib3/urllib3/issues/3020\n",
      "  warnings.warn(\n"
     ]
    },
    {
     "name": "stdout",
     "output_type": "stream",
     "text": [
      "{'E00': 0.697265625, 'E01': 0.708984375, 'E10': 0.728515625, 'E11': -0.7265625, 'CHSH_score': 2.861328125}\n"
     ]
    }
   ],
   "source": [
    "from qiskit import transpile\n",
    "from qiskit_aer.primitives import Sampler as AerSampler\n",
    "from src.utils.circuits import packed_chsh_circuit, compute_parallel_CHSH_scores\n",
    "\n",
    "# Create your packed CHSH circuit\n",
    "qc = packed_chsh_circuit()\n",
    "\n",
    "# Transpile (optional in this context)\n",
    "qc = transpile(qc)\n",
    "\n",
    "# Initialize Aer Sampler\n",
    "sampler = AerSampler()\n",
    "\n",
    "# Run the job\n",
    "job = sampler.run([qc], shots=1024)\n",
    "\n",
    "# Wait and retrieve result\n",
    "result = job.result()\n",
    "\n",
    "# Use binary_probabilities() to approximate counts\n",
    "probabilities = result.quasi_dists[0].binary_probabilities()\n",
    "\n",
    "# Convert quasi-probabilities to pseudo-counts\n",
    "total_shots = 1024\n",
    "counts = {k: int(round(v * total_shots)) for k, v in probabilities.items()}\n",
    "\n",
    "# Now compute CHSH score\n",
    "scores = compute_parallel_CHSH_scores(counts)\n",
    "print(scores)\n"
   ]
  },
  {
   "cell_type": "code",
   "execution_count": 3,
   "id": "e3f2889f",
   "metadata": {},
   "outputs": [
    {
     "name": "stderr",
     "output_type": "stream",
     "text": [
      "/Volumes/X-Wing/casco/Development/introspect-execute-time-drift-experiment/.venv/lib/python3.9/site-packages/qiskit_ibm_runtime/qiskit_runtime_service.py:1111: UserWarning: IBM Quantum Platform is moving, and this version will be sunset on July 1. To get started on the new platform, read the migration guide at https://docs.quantum.ibm.com/migration-guides/classic-iqp-to-cloud-iqp\n",
      "  warnings.warn(warning_message)\n"
     ]
    },
    {
     "name": "stdout",
     "output_type": "stream",
     "text": [
      "{'E00': 0.6875, 'E01': 0.525390625, 'E10': 0.66796875, 'E11': -0.697265625, 'CHSH_score': 2.578125}\n"
     ]
    }
   ],
   "source": [
    "from src.utils.ibm import get_backend, run_and_wrap\n",
    "from src.utils.circuits import packed_chsh_circuit, compute_parallel_CHSH_scores\n",
    "\n",
    "backend = get_backend()\n",
    "result = run_and_wrap(packed_chsh_circuit(), backend, shots=1024)\n",
    "scores = compute_parallel_CHSH_scores(result[\"counts\"])\n",
    "print(scores)"
   ]
  },
  {
   "cell_type": "code",
   "execution_count": null,
   "id": "467e7d90",
   "metadata": {},
   "outputs": [],
   "source": []
  }
 ],
 "metadata": {
  "kernelspec": {
   "display_name": ".venv",
   "language": "python",
   "name": "python3"
  },
  "language_info": {
   "codemirror_mode": {
    "name": "ipython",
    "version": 3
   },
   "file_extension": ".py",
   "mimetype": "text/x-python",
   "name": "python",
   "nbconvert_exporter": "python",
   "pygments_lexer": "ipython3",
   "version": "3.9.6"
  }
 },
 "nbformat": 4,
 "nbformat_minor": 5
}
