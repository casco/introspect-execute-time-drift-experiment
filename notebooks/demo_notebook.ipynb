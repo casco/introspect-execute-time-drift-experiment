{
 "cells": [
  {
   "cell_type": "code",
   "execution_count": null,
   "id": "10b5d97b",
   "metadata": {},
   "outputs": [],
   "source": [
    "# Run setup_imports to enable importing from src/\n",
    "%run ../src/setup_imports.py"
   ]
  },
  {
   "cell_type": "code",
   "execution_count": null,
   "id": "2ab2cc03",
   "metadata": {},
   "outputs": [],
   "source": [
    "from src.utils.ibm import get_backend, get_backend_snapshot, run_and_monitor_circuit\n",
    "from src.utils.python_utils import clean_datetimes\n",
    "from src.utils.circuits import chsh_circuit, phi_plus_meassured, compute_entanglement_correlation\n",
    "from qiskit_ibm_runtime import SamplerV2 as Sampler\n",
    "from datetime import datetime\n",
    "import json\n",
    "import time\n",
    "import pandas as pd"
   ]
  },
  {
   "cell_type": "code",
   "execution_count": null,
   "id": "cf19cbe2",
   "metadata": {},
   "outputs": [],
   "source": [
    "# Parametrize experiment\n",
    "reps = 20\n",
    "introspection_shots = 1024\n",
    "main_circuit_shots = 1024"
   ]
  },
  {
   "cell_type": "code",
   "execution_count": null,
   "id": "48c5ff36",
   "metadata": {},
   "outputs": [],
   "source": [
    "backend = get_backend()"
   ]
  },
  {
   "cell_type": "code",
   "execution_count": null,
   "id": "9b2ae2e3",
   "metadata": {},
   "outputs": [],
   "source": [
    "# Main experiment loop\n",
    "\n",
    "results = []\n",
    "for i in range(reps):\n",
    "    entry = {}\n",
    "    \n",
    "    # --- Backend snapshot; need we do this more than once?---\n",
    "    entry['backend_snapshot'] = get_backend_snapshot(backend)\n",
    "\n",
    "    # --- Introspection phase ---\n",
    "    entry['introspection'] = run_and_monitor_circuit(chsh_circuit(), backend, introspection_shots)\n",
    "    entry['entanglement_score'] = compute_entanglement_correlation(entry['introspection'][\"counts\"])\n",
    "\n",
    "    # --- Decision phase ---\n",
    "    if entry['entanglement_score'] > 0.6:  # Arbitrary threshold\n",
    "        entry['execution'] = run_and_monitor_circuit(phi_plus_meassured(), backend, main_circuit_shots)\n",
    "    \n",
    "    results.append(clean_datetimes(entry))\n",
    "    time.sleep(3600) # wait an hour before next run \n",
    "\n",
    "    # Stop at 7AM latest\n",
    "    if datetime.now().hour == 7:\n",
    "        print(f\"Breaking loop at {datetime.now().strftime('%H:%M:%S')}\")\n",
    "        break\n",
    "    \n",
    "# Save results\n",
    "with open(\"experiment_results.json\", \"w\") as f:\n",
    "    json.dump(results, f, indent=2)\n",
    "\n",
    "# Tabular summary\n",
    "df = pd.DataFrame([{\n",
    "    'introspection_start': r.get('introspection', {}).get('timestamps', {}).get('SUBMITTED'),\n",
    "    'introspection_end': r.get('introspection', {}).get('timestamps', {}).get('DONE'),\n",
    "    'execution_start': r.get('execution', {}).get('timestamps', {}).get('SUBMITTED'),\n",
    "    'execution_end': r.get('execution', {}).get('timestamps', {}).get('DONE'),\n",
    "    'entanglement_score': r.get('entanglement_score'),\n",
    "} for r in results])\n",
    "df.to_csv(\"experiment_summary.csv\", index=False)"
   ]
  }
 ],
 "metadata": {
  "kernelspec": {
   "display_name": ".venv",
   "language": "python",
   "name": "python3"
  },
  "language_info": {
   "codemirror_mode": {
    "name": "ipython",
    "version": 3
   },
   "file_extension": ".py",
   "mimetype": "text/x-python",
   "name": "python",
   "nbconvert_exporter": "python",
   "pygments_lexer": "ipython3",
   "version": "3.9.6"
  }
 },
 "nbformat": 4,
 "nbformat_minor": 5
}
